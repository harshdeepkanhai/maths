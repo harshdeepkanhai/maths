{
 "cells": [
  {
   "cell_type": "markdown",
   "id": "87a17e02-da33-48ea-8bb8-aa037b5a4fff",
   "metadata": {},
   "source": [
    "### 1. Solving for x"
   ]
  },
  {
   "cell_type": "code",
   "execution_count": 37,
   "id": "d29716b4-9d50-4b60-bcbf-5270e0cdac05",
   "metadata": {},
   "outputs": [],
   "source": [
    "import sympy as sym\n",
    "from IPython.display import display, Math"
   ]
  },
  {
   "cell_type": "code",
   "execution_count": 2,
   "id": "c235e532-708f-47d6-8217-70a92c22f547",
   "metadata": {},
   "outputs": [
    {
     "data": {
      "text/plain": [
       "[5/2]"
      ]
     },
     "execution_count": 2,
     "metadata": {},
     "output_type": "execute_result"
    }
   ],
   "source": [
    "x = sym.symbols('x')\n",
    "\n",
    "expr = 2*x + 4 - 9\n",
    "\n",
    "sym.solve(expr)\n"
   ]
  },
  {
   "cell_type": "code",
   "execution_count": 5,
   "id": "16b41133-ac3e-4214-b314-19e877af5bcd",
   "metadata": {},
   "outputs": [
    {
     "data": {
      "text/latex": [
       "$\\displaystyle \\text{ The solution is } 2 x - 5 \\text{ is x =} 2.5$"
      ],
      "text/plain": [
       "<IPython.core.display.Math object>"
      ]
     },
     "metadata": {},
     "output_type": "display_data"
    }
   ],
   "source": [
    "display(Math('\\\\text{ The solution is } %s \\\\text{ is x =} %g' %(sym.latex(expr), sym.solve(expr)[0])))"
   ]
  },
  {
   "cell_type": "code",
   "execution_count": 10,
   "id": "23c18a2d-b42d-4eb1-86c9-62cc2343c7c1",
   "metadata": {},
   "outputs": [
    {
     "name": "stdout",
     "output_type": "stream",
     "text": [
      "Solution #1 is -2\n",
      "Solution #2 is 2\n"
     ]
    }
   ],
   "source": [
    "expr = x**2-4\n",
    "sol = sym.solve(expr)\n",
    "for i in range(0, len(sol)):\n",
    "    print('Solution #' + str(i+1) + ' is ' + str(sol[i]))"
   ]
  },
  {
   "cell_type": "code",
   "execution_count": 16,
   "id": "fafc9bb4-9e81-4b8d-922a-0398e0bd7b40",
   "metadata": {},
   "outputs": [
    {
     "data": {
      "text/plain": [
       "[(x + 20)/(4*x)]"
      ]
     },
     "execution_count": 16,
     "metadata": {},
     "output_type": "execute_result"
    }
   ],
   "source": [
    "y = sym.symbols('y')\n",
    "\n",
    "expr = x/4 - x*y + 5\n",
    "\n",
    "sym.solve(expr, y)"
   ]
  },
  {
   "cell_type": "markdown",
   "id": "ca3becaa-b24f-4894-a6ab-4f5802f5981d",
   "metadata": {},
   "source": [
    "### 2. Solving for x exercises"
   ]
  },
  {
   "cell_type": "code",
   "execution_count": 5,
   "id": "c729547c-d932-48de-97e2-be837d1b373e",
   "metadata": {},
   "outputs": [
    {
     "data": {
      "text/latex": [
       "$\\displaystyle - 2 q + 2 + \\frac{3}{q}$"
      ],
      "text/plain": [
       "<IPython.core.display.Math object>"
      ]
     },
     "metadata": {},
     "output_type": "display_data"
    },
    {
     "data": {
      "text/latex": [
       "$\\displaystyle q=\\left[ \\frac{1}{2} - \\frac{\\sqrt{7}}{2}, \\  \\frac{1}{2} + \\frac{\\sqrt{7}}{2}\\right]$"
      ],
      "text/plain": [
       "<IPython.core.display.Math object>"
      ]
     },
     "metadata": {},
     "output_type": "display_data"
    }
   ],
   "source": [
    "#1)\n",
    "q = sym.symbols('q')\n",
    "eq = 3*q + 4/q + 3 - (5*q + 1/q + 1)\n",
    "display(Math(sym.latex(eq.simplify())))\n",
    "display(Math('q=' + sym.latex(sym.solve(eq, q))))"
   ]
  },
  {
   "cell_type": "code",
   "execution_count": 7,
   "id": "9a66d2c8-ebbc-40b8-bd20-56e27953274e",
   "metadata": {},
   "outputs": [
    {
     "data": {
      "text/latex": [
       "$\\displaystyle 3 q^{2} + 2 q - \\frac{5}{q} - \\frac{4}{q^{3}}$"
      ],
      "text/plain": [
       "<IPython.core.display.Math object>"
      ]
     },
     "metadata": {},
     "output_type": "display_data"
    },
    {
     "data": {
      "text/latex": [
       "$\\displaystyle \\frac{3 q^{5} + 2 q^{4} - 5 q^{2} - 4}{q^{3}}$"
      ],
      "text/plain": [
       "<IPython.core.display.Math object>"
      ]
     },
     "metadata": {},
     "output_type": "display_data"
    }
   ],
   "source": [
    "#2)\n",
    "eq = 2*q + 3*q**2 - 5/q - 4/q**3\n",
    "display(Math(sym.latex(eq.simplify())))\n",
    "display(Math(sym.latex(eq.cancel())))"
   ]
  },
  {
   "cell_type": "code",
   "execution_count": 11,
   "id": "f862aa6e-9178-4f88-97aa-71dec66c18cb",
   "metadata": {},
   "outputs": [
    {
     "data": {
      "text/latex": [
       "$\\displaystyle \\frac{\\sqrt{15} q + \\sqrt{3}}{\\sqrt{10} q + \\sqrt{2}}$"
      ],
      "text/plain": [
       "<IPython.core.display.Math object>"
      ]
     },
     "metadata": {},
     "output_type": "display_data"
    }
   ],
   "source": [
    "# 3)\n",
    "expr = (sym.sqrt(3) + sym.sqrt(15)*q)/(sym.sqrt(2) + sym.sqrt(10)*q)\n",
    "display(Math(sym.latex(expr)))"
   ]
  },
  {
   "cell_type": "code",
   "execution_count": 15,
   "id": "765be061-40bb-4436-83bb-c4df8575b683",
   "metadata": {},
   "outputs": [
    {
     "data": {
      "text/latex": [
       "$\\displaystyle 1.22474487139159$"
      ],
      "text/plain": [
       "1.22474487139159"
      ]
     },
     "execution_count": 15,
     "metadata": {},
     "output_type": "execute_result"
    }
   ],
   "source": [
    "expr.subs(q,1000).evalf()"
   ]
  },
  {
   "cell_type": "code",
   "execution_count": 16,
   "id": "a4a7eeed-65df-4aab-91ee-4a33f2df2ff9",
   "metadata": {},
   "outputs": [
    {
     "data": {
      "text/latex": [
       "$\\displaystyle \\frac{\\sqrt{6}}{2}$"
      ],
      "text/plain": [
       "<IPython.core.display.Math object>"
      ]
     },
     "metadata": {},
     "output_type": "display_data"
    }
   ],
   "source": [
    "display(Math(sym.latex(expr.simplify())))"
   ]
  },
  {
   "cell_type": "markdown",
   "id": "b5c6309e-2272-439f-83c5-ff3d89fd2303",
   "metadata": {},
   "source": [
    "### 3. Expanding terms"
   ]
  },
  {
   "cell_type": "code",
   "execution_count": 25,
   "id": "de6c010c-5ccb-426e-8221-d6b732f74384",
   "metadata": {},
   "outputs": [
    {
     "name": "stdout",
     "output_type": "stream",
     "text": [
      "x*(4*x + 5)\n"
     ]
    },
    {
     "data": {
      "text/latex": [
       "$\\displaystyle 4 x^{2} + 5 x$"
      ],
      "text/plain": [
       "<IPython.core.display.Math object>"
      ]
     },
     "metadata": {},
     "output_type": "display_data"
    }
   ],
   "source": [
    "# x = sym.symbols('x')\n",
    "from sympy.abc import x\n",
    "term1 = (4*x +5)\n",
    "term2 = x\n",
    "\n",
    "print(term1 * term2)\n",
    "display(Math(sym.latex(sym.expand(term1 * term2))))"
   ]
  },
  {
   "cell_type": "code",
   "execution_count": 27,
   "id": "82496506-ff0d-44cc-8e62-51b996a75c84",
   "metadata": {},
   "outputs": [
    {
     "data": {
      "text/latex": [
       "$\\displaystyle \\left(x - 7\\right) \\left(4 x + 5\\right)$"
      ],
      "text/plain": [
       "<IPython.core.display.Math object>"
      ]
     },
     "metadata": {},
     "output_type": "display_data"
    },
    {
     "data": {
      "text/latex": [
       "$\\displaystyle 4 x^{2} - 23 x - 35$"
      ],
      "text/plain": [
       "<IPython.core.display.Math object>"
      ]
     },
     "metadata": {},
     "output_type": "display_data"
    }
   ],
   "source": [
    "term3 = x - 7\n",
    "\n",
    "display(Math(sym.latex(term1 * term3)))\n",
    "display(Math(sym.latex(sym.expand(term1 * term3))))"
   ]
  },
  {
   "cell_type": "code",
   "execution_count": 29,
   "id": "dd8e54fa-0260-4b4e-bf93-877f8eb91acf",
   "metadata": {},
   "outputs": [
    {
     "data": {
      "text/latex": [
       "$\\displaystyle x \\left(- \\frac{5^{x}}{x} + 2 y^{2}\\right)$"
      ],
      "text/plain": [
       "<IPython.core.display.Math object>"
      ]
     },
     "metadata": {},
     "output_type": "display_data"
    },
    {
     "data": {
      "text/latex": [
       "$\\displaystyle - 5^{x} + 2 x y^{2}$"
      ],
      "text/plain": [
       "<IPython.core.display.Math object>"
      ]
     },
     "metadata": {},
     "output_type": "display_data"
    }
   ],
   "source": [
    "from sympy.abc import y\n",
    "\n",
    "expr = x * (2*y**2 - 5 **x /x)\n",
    "display(Math(sym.latex(expr)))\n",
    "display(Math(sym.latex(expr.expand())))"
   ]
  },
  {
   "cell_type": "code",
   "execution_count": 30,
   "id": "c3850cea-e6c0-4054-a960-dbebac3b39d9",
   "metadata": {},
   "outputs": [
    {
     "name": "stdout",
     "output_type": "stream",
     "text": [
      "Variable   Type        Data/Info\n",
      "--------------------------------\n",
      "Math       type        <class 'IPython.core.display.Math'>\n",
      "display    function    <function display at 0x00000207AD2A9E40>\n",
      "eq         Mul         (sqrt(15)*q + sqrt(3))/(sqrt(10)*q + sqrt(2))\n",
      "expr       Mul         x*(-5**x/x + 2*y**2)\n",
      "q          Symbol      q\n",
      "sym        module      <module 'sympy' from 'F:\\<...>ges\\\\sympy\\\\__init__.py'>\n",
      "term       Add         4*x + 5\n",
      "term1      Add         4*x + 5\n",
      "term2      Symbol      x\n",
      "term3      Add         x - 7\n",
      "x          Symbol      x\n",
      "y          Symbol      y\n"
     ]
    }
   ],
   "source": [
    "%whos"
   ]
  },
  {
   "cell_type": "markdown",
   "id": "4357df96-e608-4e3f-a396-8ddd9e02accd",
   "metadata": {},
   "source": [
    "#### 3. Exercises"
   ]
  },
  {
   "cell_type": "code",
   "execution_count": 35,
   "id": "9e13aa0b-82cf-4728-90d0-a92c65fe9b04",
   "metadata": {},
   "outputs": [
    {
     "name": "stdout",
     "output_type": "stream",
     "text": [
      "When x=0 and y=0, f(x,y)=8\n",
      "When x=0 and y=1, f(x,y)=4\n",
      "When x=0 and y=2, f(x,y)=0\n",
      "When x=1 and y=0, f(x,y)=10\n",
      "When x=1 and y=1, f(x,y)=5\n",
      "When x=1 and y=2, f(x,y)=0\n",
      "When x=2 and y=0, f(x,y)=12\n",
      "When x=2 and y=1, f(x,y)=6\n",
      "When x=2 and y=2, f(x,y)=0\n"
     ]
    }
   ],
   "source": [
    "Fxy = (4 + x)*(2-y)\n",
    "\n",
    "numrange = range(0,3)\n",
    "\n",
    "for xi in numrange:\n",
    "    for yi in numrange:\n",
    "        print('When x=%g and y=%g, f(x,y)=%g' %(xi, yi, Fxy.subs({x:xi, y:yi})))"
   ]
  },
  {
   "cell_type": "markdown",
   "id": "5712f73f-7aef-435a-aa0f-0245be461c4f",
   "metadata": {},
   "source": [
    "### 4. Creating and accessing matrices with numpy"
   ]
  },
  {
   "cell_type": "code",
   "execution_count": 36,
   "id": "e86195d9-a11a-4cd3-a792-222faabe9c4f",
   "metadata": {},
   "outputs": [],
   "source": [
    "import numpy as np"
   ]
  },
  {
   "cell_type": "code",
   "execution_count": 40,
   "id": "fa5b59dc-4f80-477b-bc0c-aa84e4910323",
   "metadata": {},
   "outputs": [
    {
     "data": {
      "text/plain": [
       "list"
      ]
     },
     "execution_count": 40,
     "metadata": {},
     "output_type": "execute_result"
    }
   ],
   "source": [
    "A = [[1,2], [3,4]]\n",
    "\n",
    "type(A)"
   ]
  },
  {
   "cell_type": "code",
   "execution_count": 45,
   "id": "b3ac670c-9388-4dbc-a480-3db4c36402c5",
   "metadata": {},
   "outputs": [
    {
     "name": "stdout",
     "output_type": "stream",
     "text": [
      "[[1 2]\n",
      " [3 4]]\n"
     ]
    },
    {
     "data": {
      "text/latex": [
       "$\\displaystyle \\left[\\begin{matrix}1 & 2\\\\3 & 4\\end{matrix}\\right]$"
      ],
      "text/plain": [
       "<IPython.core.display.Math object>"
      ]
     },
     "metadata": {},
     "output_type": "display_data"
    }
   ],
   "source": [
    "A = np.array(A)\n",
    "type(A)\n",
    "print(A)\n",
    "display(Math(sym.latex(sym.sympify(A))))"
   ]
  },
  {
   "cell_type": "code",
   "execution_count": 50,
   "id": "080eedb5-22e0-4259-a306-8765317318a8",
   "metadata": {},
   "outputs": [
    {
     "data": {
      "text/plain": [
       "array([[0., 2., 0., 0., 0., 0.],\n",
       "       [0., 0., 0., 0., 0., 0.],\n",
       "       [0., 0., 0., 0., 7., 0.],\n",
       "       [0., 0., 0., 0., 0., 0.]])"
      ]
     },
     "execution_count": 50,
     "metadata": {},
     "output_type": "execute_result"
    }
   ],
   "source": [
    "mat = np.zeros([4,6])\n",
    "\n",
    "mat[0,1] = 2\n",
    "\n",
    "mat[2,4] = 7\n",
    "\n",
    "mat"
   ]
  },
  {
   "cell_type": "code",
   "execution_count": 52,
   "id": "f5fc82b1-6f1d-4ab1-a4fc-5d13d0ddf11b",
   "metadata": {},
   "outputs": [
    {
     "data": {
      "text/plain": [
       "array([[ 1., -1.,  1., -1.,  0.,  0.],\n",
       "       [-1.,  1., -1.,  1.,  0.,  0.],\n",
       "       [ 1., -1.,  1., -1.,  7.,  0.],\n",
       "       [-1.,  1., -1.,  1.,  0.,  0.]])"
      ]
     },
     "execution_count": 52,
     "metadata": {},
     "output_type": "execute_result"
    }
   ],
   "source": [
    "numrange = range(0,4)\n",
    "\n",
    "for rowi in numrange:\n",
    "    for coli in numrange:\n",
    "        mat[rowi, coli] = (-1)**(rowi + coli)\n",
    "\n",
    "mat"
   ]
  },
  {
   "cell_type": "markdown",
   "id": "cf85b0dd-1bb5-4c04-be50-aa3e2ee3f7c9",
   "metadata": {},
   "source": [
    "#### 4. Exercise"
   ]
  },
  {
   "cell_type": "code",
   "execution_count": 56,
   "id": "ac6eeee6-a3b6-4a01-a444-ad2983dcab82",
   "metadata": {},
   "outputs": [
    {
     "data": {
      "text/latex": [
       "$\\displaystyle \\left[\\begin{matrix}8.0 & 4.0 & 0.0\\\\10.0 & 5.0 & 0.0\\\\12.0 & 6.0 & 0.0\\end{matrix}\\right]$"
      ],
      "text/plain": [
       "<IPython.core.display.Math object>"
      ]
     },
     "metadata": {},
     "output_type": "display_data"
    }
   ],
   "source": [
    "x,y = sym.symbols('x y')\n",
    "Fxy = (4 + x) * (2 - y)\n",
    "xyset = range(0, 3)\n",
    "\n",
    "outmat = np.zeros([len(xyset), len(xyset)])\n",
    "\n",
    "for i in xyset:\n",
    "    for j in xyset:\n",
    "        outmat[i, j] = Fxy.subs({x:i, y:j})\n",
    "\n",
    "display(Math(sym.latex(sym.sympify(outmat))))"
   ]
  },
  {
   "cell_type": "markdown",
   "id": "906c3358-d1ca-420e-8d10-598ed3e7f596",
   "metadata": {},
   "source": [
    "### 5. Exercise Create a multiplication table"
   ]
  },
  {
   "cell_type": "code",
   "execution_count": 61,
   "id": "503f16c4-6f9a-48cb-8629-5e97d0197d1b",
   "metadata": {},
   "outputs": [
    {
     "data": {
      "text/latex": [
       "$\\displaystyle \\left[\\begin{matrix}1 & 2 & 3 & 4 & 5 & 6 & 7 & 8 & 9 & 10\\\\2 & 4 & 6 & 8 & 10 & 12 & 14 & 16 & 18 & 20\\\\3 & 6 & 9 & 12 & 15 & 18 & 21 & 24 & 27 & 30\\\\4 & 8 & 12 & 16 & 20 & 24 & 28 & 32 & 36 & 40\\\\5 & 10 & 15 & 20 & 25 & 30 & 35 & 40 & 45 & 50\\\\6 & 12 & 18 & 24 & 30 & 36 & 42 & 48 & 54 & 60\\\\7 & 14 & 21 & 28 & 35 & 42 & 49 & 56 & 63 & 70\\\\8 & 16 & 24 & 32 & 40 & 48 & 56 & 64 & 72 & 80\\\\9 & 18 & 27 & 36 & 45 & 54 & 63 & 72 & 81 & 90\\\\10 & 20 & 30 & 40 & 50 & 60 & 70 & 80 & 90 & 100\\end{matrix}\\right]$"
      ],
      "text/plain": [
       "<IPython.core.display.Math object>"
      ]
     },
     "metadata": {},
     "output_type": "display_data"
    }
   ],
   "source": [
    "nums = range(1,11)\n",
    "\n",
    "matmult = np.zeros([len(nums), len(nums)],dtype=int)\n",
    "\n",
    "for rowi in nums:\n",
    "    for coli in nums:\n",
    "        matmult[rowi - 1, coli - 1] = rowi * coli\n",
    "\n",
    "display(Math(sym.latex(sym.sympify(matmult))))"
   ]
  },
  {
   "cell_type": "code",
   "execution_count": null,
   "id": "d55b2398-d3a3-4081-a0cb-f8e6e465d0d4",
   "metadata": {},
   "outputs": [],
   "source": []
  }
 ],
 "metadata": {
  "kernelspec": {
   "display_name": "Python 3 (ipykernel)",
   "language": "python",
   "name": "python3"
  },
  "language_info": {
   "codemirror_mode": {
    "name": "ipython",
    "version": 3
   },
   "file_extension": ".py",
   "mimetype": "text/x-python",
   "name": "python",
   "nbconvert_exporter": "python",
   "pygments_lexer": "ipython3",
   "version": "3.11.1"
  }
 },
 "nbformat": 4,
 "nbformat_minor": 5
}
