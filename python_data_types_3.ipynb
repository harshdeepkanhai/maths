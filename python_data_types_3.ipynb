{
 "cells": [
  {
   "cell_type": "markdown",
   "id": "a1904c68-4d1a-4489-aaab-94695c5b62ff",
   "metadata": {},
   "source": [
    "### 1. Numbers and Strings"
   ]
  },
  {
   "cell_type": "code",
   "execution_count": 1,
   "id": "3e2cf67e-4d5b-435c-abbc-be39f92066dd",
   "metadata": {},
   "outputs": [],
   "source": [
    "import numpy as np"
   ]
  },
  {
   "cell_type": "code",
   "execution_count": 2,
   "id": "4c597c96-d6bb-4870-9ed9-68170088ff69",
   "metadata": {},
   "outputs": [
    {
     "name": "stdout",
     "output_type": "stream",
     "text": [
      "7 7.0\n"
     ]
    }
   ],
   "source": [
    "# data types\n",
    "\n",
    "# ints vs. floats\n",
    "c = 7\n",
    "d = 7.0\n",
    "\n",
    "print(c, d)"
   ]
  },
  {
   "cell_type": "code",
   "execution_count": 5,
   "id": "0494412a-6d18-4fe9-8e39-c36a79e269f1",
   "metadata": {},
   "outputs": [
    {
     "name": "stdout",
     "output_type": "stream",
     "text": [
      "<class 'int'>\n",
      "<class 'float'>\n"
     ]
    }
   ],
   "source": [
    "print(type(c))\n",
    "print(type(d))"
   ]
  },
  {
   "cell_type": "code",
   "execution_count": 6,
   "id": "a68abcd8-fd45-4f47-90e7-a70e5f84f110",
   "metadata": {},
   "outputs": [
    {
     "name": "stdout",
     "output_type": "stream",
     "text": [
      "0\n",
      "1\n",
      "2\n",
      "3\n",
      "4\n",
      "5\n",
      "6\n"
     ]
    }
   ],
   "source": [
    "for i in range(0,c):\n",
    "    print(i)"
   ]
  },
  {
   "cell_type": "code",
   "execution_count": 7,
   "id": "bffc7d61-b697-40be-bdce-9609d511eee0",
   "metadata": {},
   "outputs": [
    {
     "ename": "TypeError",
     "evalue": "'float' object cannot be interpreted as an integer",
     "output_type": "error",
     "traceback": [
      "\u001b[1;31m-----------------------------------------------------------\u001b[0m",
      "\u001b[1;31mTypeError\u001b[0m                 Traceback (most recent call last)",
      "Cell \u001b[1;32mIn[7], line 1\u001b[0m\n\u001b[1;32m----> 1\u001b[0m \u001b[38;5;28;01mfor\u001b[39;00m i \u001b[38;5;129;01min\u001b[39;00m \u001b[38;5;28;43mrange\u001b[39;49m\u001b[43m(\u001b[49m\u001b[43md\u001b[49m\u001b[43m)\u001b[49m:\n\u001b[0;32m      2\u001b[0m     \u001b[38;5;28mprint\u001b[39m(i)\n",
      "\u001b[1;31mTypeError\u001b[0m: 'float' object cannot be interpreted as an integer"
     ]
    }
   ],
   "source": [
    "for i in range(d):\n",
    "    print(i)"
   ]
  },
  {
   "cell_type": "code",
   "execution_count": 8,
   "id": "69d1f2ff-2196-4883-a9f2-69ac2b3dc09d",
   "metadata": {},
   "outputs": [
    {
     "data": {
      "text/plain": [
       "14.0"
      ]
     },
     "execution_count": 8,
     "metadata": {},
     "output_type": "execute_result"
    }
   ],
   "source": [
    "c+d"
   ]
  },
  {
   "cell_type": "code",
   "execution_count": 10,
   "id": "4b18c4cd-18f6-47e8-abe0-aa9f20b2b95d",
   "metadata": {},
   "outputs": [
    {
     "data": {
      "text/plain": [
       "str"
      ]
     },
     "execution_count": 10,
     "metadata": {},
     "output_type": "execute_result"
    }
   ],
   "source": [
    "firstName = 'Mike'\n",
    "lastName = 'Cohen'\n",
    "type(firstName)"
   ]
  },
  {
   "cell_type": "code",
   "execution_count": 13,
   "id": "558f2add-9121-4354-be1a-8799a3031c99",
   "metadata": {},
   "outputs": [
    {
     "data": {
      "text/plain": [
       "'Mike Cohen'"
      ]
     },
     "execution_count": 13,
     "metadata": {},
     "output_type": "execute_result"
    }
   ],
   "source": [
    "firstName + ' ' + lastName # overloading"
   ]
  },
  {
   "cell_type": "code",
   "execution_count": 14,
   "id": "880141d3-f013-40ce-b1d4-fb055cdeb2dc",
   "metadata": {},
   "outputs": [
    {
     "data": {
      "text/plain": [
       "49.0"
      ]
     },
     "execution_count": 14,
     "metadata": {},
     "output_type": "execute_result"
    }
   ],
   "source": [
    "c * d"
   ]
  },
  {
   "cell_type": "code",
   "execution_count": 15,
   "id": "67128895-5cfd-4f70-8179-ac8faa6479ee",
   "metadata": {},
   "outputs": [
    {
     "data": {
      "text/plain": [
       "'MikeMikeMike'"
      ]
     },
     "execution_count": 15,
     "metadata": {},
     "output_type": "execute_result"
    }
   ],
   "source": [
    "firstName * 3"
   ]
  },
  {
   "cell_type": "code",
   "execution_count": 16,
   "id": "2dbbd97d-0dd2-4f47-88fd-7bb47d2ea084",
   "metadata": {},
   "outputs": [
    {
     "name": "stdout",
     "output_type": "stream",
     "text": [
      "Variable     Type      Data/Info\n",
      "--------------------------------\n",
      "c            int       7\n",
      "d            float     7.0\n",
      "firstName    str       Mike\n",
      "firstNames   str       Mike\n",
      "i            int       6\n",
      "lastName     str       Cohen\n",
      "np           module    <module 'numpy' from 'F:\\<...>ges\\\\numpy\\\\__init__.py'>\n"
     ]
    }
   ],
   "source": [
    "%whos"
   ]
  },
  {
   "cell_type": "markdown",
   "id": "f55270ca-756c-4c1d-af1a-089c28dc76ac",
   "metadata": {},
   "source": [
    "#### 1. Exercises"
   ]
  },
  {
   "cell_type": "code",
   "execution_count": 25,
   "id": "dc02a263-d7d4-4e53-9c68-5f8ba3e5d35b",
   "metadata": {},
   "outputs": [
    {
     "name": "stdout",
     "output_type": "stream",
     "text": [
      "<class 'int'>\n",
      "<class 'int'>\n",
      "4.0 <class 'float'>\n",
      "4.7 <class 'float'>\n",
      "<class 'str'>\n"
     ]
    },
    {
     "data": {
      "text/plain": [
       "'5.8'"
      ]
     },
     "execution_count": 25,
     "metadata": {},
     "output_type": "execute_result"
    }
   ],
   "source": [
    "# convert across datatypes\n",
    "s1 = '4'\n",
    "s2 = '4.7'\n",
    "n1 = 5\n",
    "n2 = 5.8\n",
    "\n",
    "# convert the strings to integers\n",
    "print( type(int(s1)))\n",
    "print( type(int(float(s2))))\n",
    "\n",
    "# convert the strings to floats\n",
    "print(float(s1), type(float(s1)))\n",
    "print(float(s2), type(float(s2)))\n",
    "\n",
    "# convert the numbers into strings\n",
    "print(type(str(n1)))\n",
    "str(n2)"
   ]
  },
  {
   "cell_type": "code",
   "execution_count": null,
   "id": "416c641a-5a52-4bbd-8db5-39f0ee5e504d",
   "metadata": {},
   "outputs": [],
   "source": []
  }
 ],
 "metadata": {
  "kernelspec": {
   "display_name": "Python 3 (ipykernel)",
   "language": "python",
   "name": "python3"
  },
  "language_info": {
   "codemirror_mode": {
    "name": "ipython",
    "version": 3
   },
   "file_extension": ".py",
   "mimetype": "text/x-python",
   "name": "python",
   "nbconvert_exporter": "python",
   "pygments_lexer": "ipython3",
   "version": "3.11.1"
  }
 },
 "nbformat": 4,
 "nbformat_minor": 5
}
