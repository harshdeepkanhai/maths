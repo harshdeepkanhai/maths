{
 "cells": [
  {
   "cell_type": "markdown",
   "id": "a1904c68-4d1a-4489-aaab-94695c5b62ff",
   "metadata": {},
   "source": [
    "### 1. Numbers and Strings"
   ]
  },
  {
   "cell_type": "code",
   "execution_count": 1,
   "id": "3e2cf67e-4d5b-435c-abbc-be39f92066dd",
   "metadata": {},
   "outputs": [],
   "source": [
    "import numpy as np"
   ]
  },
  {
   "cell_type": "code",
   "execution_count": 2,
   "id": "4c597c96-d6bb-4870-9ed9-68170088ff69",
   "metadata": {},
   "outputs": [
    {
     "name": "stdout",
     "output_type": "stream",
     "text": [
      "7 7.0\n"
     ]
    }
   ],
   "source": [
    "# data types\n",
    "\n",
    "# ints vs. floats\n",
    "c = 7\n",
    "d = 7.0\n",
    "\n",
    "print(c, d)"
   ]
  },
  {
   "cell_type": "code",
   "execution_count": 5,
   "id": "0494412a-6d18-4fe9-8e39-c36a79e269f1",
   "metadata": {},
   "outputs": [
    {
     "name": "stdout",
     "output_type": "stream",
     "text": [
      "<class 'int'>\n",
      "<class 'float'>\n"
     ]
    }
   ],
   "source": [
    "print(type(c))\n",
    "print(type(d))"
   ]
  },
  {
   "cell_type": "code",
   "execution_count": 6,
   "id": "a68abcd8-fd45-4f47-90e7-a70e5f84f110",
   "metadata": {},
   "outputs": [
    {
     "name": "stdout",
     "output_type": "stream",
     "text": [
      "0\n",
      "1\n",
      "2\n",
      "3\n",
      "4\n",
      "5\n",
      "6\n"
     ]
    }
   ],
   "source": [
    "for i in range(0,c):\n",
    "    print(i)"
   ]
  },
  {
   "cell_type": "code",
   "execution_count": 7,
   "id": "bffc7d61-b697-40be-bdce-9609d511eee0",
   "metadata": {},
   "outputs": [
    {
     "ename": "TypeError",
     "evalue": "'float' object cannot be interpreted as an integer",
     "output_type": "error",
     "traceback": [
      "\u001b[1;31m-----------------------------------------------------------\u001b[0m",
      "\u001b[1;31mTypeError\u001b[0m                 Traceback (most recent call last)",
      "Cell \u001b[1;32mIn[7], line 1\u001b[0m\n\u001b[1;32m----> 1\u001b[0m \u001b[38;5;28;01mfor\u001b[39;00m i \u001b[38;5;129;01min\u001b[39;00m \u001b[38;5;28;43mrange\u001b[39;49m\u001b[43m(\u001b[49m\u001b[43md\u001b[49m\u001b[43m)\u001b[49m:\n\u001b[0;32m      2\u001b[0m     \u001b[38;5;28mprint\u001b[39m(i)\n",
      "\u001b[1;31mTypeError\u001b[0m: 'float' object cannot be interpreted as an integer"
     ]
    }
   ],
   "source": [
    "for i in range(d):\n",
    "    print(i)"
   ]
  },
  {
   "cell_type": "code",
   "execution_count": 8,
   "id": "69d1f2ff-2196-4883-a9f2-69ac2b3dc09d",
   "metadata": {},
   "outputs": [
    {
     "data": {
      "text/plain": [
       "14.0"
      ]
     },
     "execution_count": 8,
     "metadata": {},
     "output_type": "execute_result"
    }
   ],
   "source": [
    "c+d"
   ]
  },
  {
   "cell_type": "code",
   "execution_count": 10,
   "id": "4b18c4cd-18f6-47e8-abe0-aa9f20b2b95d",
   "metadata": {},
   "outputs": [
    {
     "data": {
      "text/plain": [
       "str"
      ]
     },
     "execution_count": 10,
     "metadata": {},
     "output_type": "execute_result"
    }
   ],
   "source": [
    "firstName = 'Mike'\n",
    "lastName = 'Cohen'\n",
    "type(firstName)"
   ]
  },
  {
   "cell_type": "code",
   "execution_count": 13,
   "id": "558f2add-9121-4354-be1a-8799a3031c99",
   "metadata": {},
   "outputs": [
    {
     "data": {
      "text/plain": [
       "'Mike Cohen'"
      ]
     },
     "execution_count": 13,
     "metadata": {},
     "output_type": "execute_result"
    }
   ],
   "source": [
    "firstName + ' ' + lastName # overloading"
   ]
  },
  {
   "cell_type": "code",
   "execution_count": 14,
   "id": "880141d3-f013-40ce-b1d4-fb055cdeb2dc",
   "metadata": {},
   "outputs": [
    {
     "data": {
      "text/plain": [
       "49.0"
      ]
     },
     "execution_count": 14,
     "metadata": {},
     "output_type": "execute_result"
    }
   ],
   "source": [
    "c * d"
   ]
  },
  {
   "cell_type": "code",
   "execution_count": 15,
   "id": "67128895-5cfd-4f70-8179-ac8faa6479ee",
   "metadata": {},
   "outputs": [
    {
     "data": {
      "text/plain": [
       "'MikeMikeMike'"
      ]
     },
     "execution_count": 15,
     "metadata": {},
     "output_type": "execute_result"
    }
   ],
   "source": [
    "firstName * 3"
   ]
  },
  {
   "cell_type": "code",
   "execution_count": 16,
   "id": "2dbbd97d-0dd2-4f47-88fd-7bb47d2ea084",
   "metadata": {},
   "outputs": [
    {
     "name": "stdout",
     "output_type": "stream",
     "text": [
      "Variable     Type      Data/Info\n",
      "--------------------------------\n",
      "c            int       7\n",
      "d            float     7.0\n",
      "firstName    str       Mike\n",
      "firstNames   str       Mike\n",
      "i            int       6\n",
      "lastName     str       Cohen\n",
      "np           module    <module 'numpy' from 'F:\\<...>ges\\\\numpy\\\\__init__.py'>\n"
     ]
    }
   ],
   "source": [
    "%whos"
   ]
  },
  {
   "cell_type": "markdown",
   "id": "f55270ca-756c-4c1d-af1a-089c28dc76ac",
   "metadata": {},
   "source": [
    "#### 1. Exercises"
   ]
  },
  {
   "cell_type": "code",
   "execution_count": 25,
   "id": "dc02a263-d7d4-4e53-9c68-5f8ba3e5d35b",
   "metadata": {},
   "outputs": [
    {
     "name": "stdout",
     "output_type": "stream",
     "text": [
      "<class 'int'>\n",
      "<class 'int'>\n",
      "4.0 <class 'float'>\n",
      "4.7 <class 'float'>\n",
      "<class 'str'>\n"
     ]
    },
    {
     "data": {
      "text/plain": [
       "'5.8'"
      ]
     },
     "execution_count": 25,
     "metadata": {},
     "output_type": "execute_result"
    }
   ],
   "source": [
    "# convert across datatypes\n",
    "s1 = '4'\n",
    "s2 = '4.7'\n",
    "n1 = 5\n",
    "n2 = 5.8\n",
    "\n",
    "# convert the strings to integers\n",
    "print( type(int(s1)))\n",
    "print( type(int(float(s2))))\n",
    "\n",
    "# convert the strings to floats\n",
    "print(float(s1), type(float(s1)))\n",
    "print(float(s2), type(float(s2)))\n",
    "\n",
    "# convert the numbers into strings\n",
    "print(type(str(n1)))\n",
    "str(n2)"
   ]
  },
  {
   "cell_type": "markdown",
   "id": "ee395faa-ad4d-4d71-876c-0f91b9666100",
   "metadata": {},
   "source": [
    "### 2. Lists and numpy arrays"
   ]
  },
  {
   "cell_type": "code",
   "execution_count": 26,
   "id": "62208a61-6dff-47c1-9776-75dd1a095444",
   "metadata": {},
   "outputs": [],
   "source": [
    "import numpy as np"
   ]
  },
  {
   "cell_type": "code",
   "execution_count": 29,
   "id": "f580e383-8722-4788-ba9d-25e09751789e",
   "metadata": {},
   "outputs": [
    {
     "data": {
      "text/plain": [
       "list"
      ]
     },
     "execution_count": 29,
     "metadata": {},
     "output_type": "execute_result"
    }
   ],
   "source": [
    "aList = [0, 1, 2, 3, 4, 5]\n",
    "type(aList)"
   ]
  },
  {
   "cell_type": "code",
   "execution_count": 30,
   "id": "8f35e762-a8eb-47d1-a15a-d07869d218c8",
   "metadata": {},
   "outputs": [
    {
     "data": {
      "text/plain": [
       "[3, ['3', '4', '5'], 5.5, [4, 5, 6]]"
      ]
     },
     "execution_count": 30,
     "metadata": {},
     "output_type": "execute_result"
    }
   ],
   "source": [
    "listList = [3, ['3', '4', '5'], 5.5, [4, 5, 6]]\n",
    "listList"
   ]
  },
  {
   "cell_type": "code",
   "execution_count": 32,
   "id": "943a95ba-ba2a-483c-bff8-71b4073077f9",
   "metadata": {},
   "outputs": [
    {
     "data": {
      "text/plain": [
       "[3, ['3', '4', '5'], 5.5, [4, 5, 6]]"
      ]
     },
     "execution_count": 32,
     "metadata": {},
     "output_type": "execute_result"
    }
   ],
   "source": [
    "listList = [\n",
    "    3,                # a number\n",
    "    ['3', '4', '5'],  # a list of strings\n",
    "    5.5,              # another float number\n",
    "    [4, 5, 6]\n",
    "]\n",
    "listList"
   ]
  },
  {
   "cell_type": "code",
   "execution_count": 33,
   "id": "15069596-ab1b-40b2-a81d-26a2645340a5",
   "metadata": {},
   "outputs": [
    {
     "data": {
      "text/plain": [
       "[0, 1, 2, 3, 4, 5, '0', '1', '2', '3', '4', '5']"
      ]
     },
     "execution_count": 33,
     "metadata": {},
     "output_type": "execute_result"
    }
   ],
   "source": [
    "aList = [0, 1, 2, 3, 4, 5]\n",
    "sList = ['0', '1', '2', '3', '4', '5']\n",
    "\n",
    "aList + sList"
   ]
  },
  {
   "cell_type": "code",
   "execution_count": 34,
   "id": "3c4d9abc-8392-4edb-9afe-3b3c4cf5d85b",
   "metadata": {},
   "outputs": [
    {
     "data": {
      "text/plain": [
       "['0', '1', '2', '3', '4', '5', '0', '1', '2', '3', '4', '5']"
      ]
     },
     "execution_count": 34,
     "metadata": {},
     "output_type": "execute_result"
    }
   ],
   "source": [
    "sList + sList"
   ]
  },
  {
   "cell_type": "code",
   "execution_count": 35,
   "id": "2f40586d-d62d-467c-8485-b7ae6e69ea86",
   "metadata": {},
   "outputs": [
    {
     "data": {
      "text/plain": [
       "[0, 1, 2, 3, 4, 5, 0, 1, 2, 3, 4, 5, 0, 1, 2, 3, 4, 5]"
      ]
     },
     "execution_count": 35,
     "metadata": {},
     "output_type": "execute_result"
    }
   ],
   "source": [
    "aList * 3"
   ]
  },
  {
   "cell_type": "code",
   "execution_count": 36,
   "id": "4131a78b-936c-4949-bab6-98e6b5f1fd26",
   "metadata": {},
   "outputs": [
    {
     "data": {
      "text/plain": [
       "['0',\n",
       " '1',\n",
       " '2',\n",
       " '3',\n",
       " '4',\n",
       " '5',\n",
       " '0',\n",
       " '1',\n",
       " '2',\n",
       " '3',\n",
       " '4',\n",
       " '5',\n",
       " '0',\n",
       " '1',\n",
       " '2',\n",
       " '3',\n",
       " '4',\n",
       " '5']"
      ]
     },
     "execution_count": 36,
     "metadata": {},
     "output_type": "execute_result"
    }
   ],
   "source": [
    "sList * 3"
   ]
  },
  {
   "cell_type": "code",
   "execution_count": 38,
   "id": "cfa972cb-182d-442e-8f72-127a9e27d3b4",
   "metadata": {},
   "outputs": [
    {
     "name": "stdout",
     "output_type": "stream",
     "text": [
      "<class 'list'>\n",
      "<class 'numpy.ndarray'>\n",
      "[0, 1, 2, 3, 4, 5]\n",
      "[0 1 2 3 4 5]\n"
     ]
    }
   ],
   "source": [
    "aList_np = np.array(aList)\n",
    "print(type(aList))\n",
    "print(type(aList_np))\n",
    "print(aList)\n",
    "print(aList_np)"
   ]
  },
  {
   "cell_type": "code",
   "execution_count": 39,
   "id": "74a29c4f-4706-4c28-9f3c-38731d62ffff",
   "metadata": {},
   "outputs": [
    {
     "data": {
      "text/plain": [
       "array([ 0,  3,  6,  9, 12, 15])"
      ]
     },
     "execution_count": 39,
     "metadata": {},
     "output_type": "execute_result"
    }
   ],
   "source": [
    "aList_np * 3"
   ]
  },
  {
   "cell_type": "code",
   "execution_count": 40,
   "id": "f36e0a5d-db9b-4911-85a5-a5f736692180",
   "metadata": {},
   "outputs": [
    {
     "ename": "TypeError",
     "evalue": "can only concatenate list (not \"int\") to list",
     "output_type": "error",
     "traceback": [
      "\u001b[1;31m-----------------------------------------------------------\u001b[0m",
      "\u001b[1;31mTypeError\u001b[0m                 Traceback (most recent call last)",
      "Cell \u001b[1;32mIn[40], line 1\u001b[0m\n\u001b[1;32m----> 1\u001b[0m \u001b[43maList\u001b[49m\u001b[43m \u001b[49m\u001b[38;5;241;43m+\u001b[39;49m\u001b[43m \u001b[49m\u001b[38;5;241;43m3\u001b[39;49m\n",
      "\u001b[1;31mTypeError\u001b[0m: can only concatenate list (not \"int\") to list"
     ]
    }
   ],
   "source": [
    "aList + 3"
   ]
  },
  {
   "cell_type": "code",
   "execution_count": 41,
   "id": "1df11677-b9df-4e65-9569-3a20cbad012b",
   "metadata": {},
   "outputs": [
    {
     "data": {
      "text/plain": [
       "[0, 1, 2, 3, 4, 5, 3]"
      ]
     },
     "execution_count": 41,
     "metadata": {},
     "output_type": "execute_result"
    }
   ],
   "source": [
    "aList + [3]"
   ]
  },
  {
   "cell_type": "markdown",
   "id": "a35087f8-1654-408f-9326-b685a770c6b1",
   "metadata": {},
   "source": [
    "#### 2. Exercises"
   ]
  },
  {
   "cell_type": "code",
   "execution_count": 52,
   "id": "69d97945-bd49-436a-9eba-71484bc336c9",
   "metadata": {},
   "outputs": [
    {
     "name": "stdout",
     "output_type": "stream",
     "text": [
      "List element 0 is 3 and is of type int'\n",
      "List element 1 is ['3', '4', '5'] and is of type list'\n",
      "List element 2 is 5.5 and is of type float'\n",
      "List element 3 is [4, 5, 6] and is of type list'\n"
     ]
    }
   ],
   "source": [
    "for idx, item in enumerate(listList):\n",
    "    t = str(type(item))[8:]\n",
    "    apost = t.find(\"''\")\n",
    "    print(f'List element {idx} is {item} and is of type {t[:apost]}')"
   ]
  },
  {
   "cell_type": "code",
   "execution_count": null,
   "id": "84a26ac3-13db-4729-a48c-bc01595f5746",
   "metadata": {},
   "outputs": [],
   "source": []
  }
 ],
 "metadata": {
  "kernelspec": {
   "display_name": "Python 3 (ipykernel)",
   "language": "python",
   "name": "python3"
  },
  "language_info": {
   "codemirror_mode": {
    "name": "ipython",
    "version": 3
   },
   "file_extension": ".py",
   "mimetype": "text/x-python",
   "name": "python",
   "nbconvert_exporter": "python",
   "pygments_lexer": "ipython3",
   "version": "3.11.1"
  }
 },
 "nbformat": 4,
 "nbformat_minor": 5
}
