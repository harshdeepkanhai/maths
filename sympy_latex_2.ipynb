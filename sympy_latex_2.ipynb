{
 "cells": [
  {
   "cell_type": "markdown",
   "id": "a5e17f30-4536-4d9f-8e23-ee38cb9b454b",
   "metadata": {},
   "source": [
    "### 1. Intro to sympy"
   ]
  },
  {
   "cell_type": "code",
   "execution_count": 20,
   "id": "abd699f2-c454-44e4-bc85-3d1b81e8adf5",
   "metadata": {},
   "outputs": [],
   "source": [
    "import sympy as sym\n",
    "import numpy as np\n",
    "sym.init_printing()\n",
    "from IPython.display import display"
   ]
  },
  {
   "cell_type": "code",
   "execution_count": 12,
   "id": "6e1bad59-ccf8-4524-a221-7009042339c9",
   "metadata": {},
   "outputs": [
    {
     "data": {
      "image/png": "[encoded data removed]",
      "text/latex": [
       "$\\displaystyle x$"
      ],
      "text/plain": [
       "x"
      ]
     },
     "execution_count": 12,
     "metadata": {},
     "output_type": "execute_result"
    }
   ],
   "source": [
    "x, y = sym.symbols('x, y')\n",
    "x"
   ]
  },
  {
   "cell_type": "code",
   "execution_count": 13,
   "id": "31b112b8-e891-4305-90d5-cbfcc2883642",
   "metadata": {},
   "outputs": [
    {
     "data": {
      "image/png": "[encoded data removed]",
      "text/latex": [
       "$\\displaystyle y + 4$"
      ],
      "text/plain": [
       "y + 4"
      ]
     },
     "execution_count": 13,
     "metadata": {},
     "output_type": "execute_result"
    }
   ],
   "source": [
    "y + 4"
   ]
  },
  {
   "cell_type": "code",
   "execution_count": 18,
   "id": "6eaf610e-7394-4ea8-8e64-9475eaf5e19e",
   "metadata": {},
   "outputs": [
    {
     "data": {
      "image/png": "[encoded data removed]",
      "text/latex": [
       "$\\displaystyle x^{y}$"
      ],
      "text/plain": [
       " y\n",
       "x "
      ]
     },
     "metadata": {},
     "output_type": "display_data"
    },
    {
     "data": {
      "image/png": "[encoded data removed]",
      "text/latex": [
       "$\\displaystyle \\frac{x}{y}$"
      ],
      "text/plain": [
       "x\n",
       "─\n",
       "y"
      ]
     },
     "metadata": {},
     "output_type": "display_data"
    }
   ],
   "source": [
    "display(x**y)\n",
    "display(x/y)"
   ]
  },
  {
   "cell_type": "code",
   "execution_count": 22,
   "id": "801d1ca2-3770-401c-a2a0-ef06d54d5e7a",
   "metadata": {},
   "outputs": [
    {
     "data": {
      "image/png": "[encoded data removed]",
      "text/latex": [
       "$\\displaystyle 1.4142135623731$"
      ],
      "text/plain": [
       "np.float64(1.4142135623730951)"
      ]
     },
     "metadata": {},
     "output_type": "display_data"
    },
    {
     "data": {
      "image/png": "[encoded data removed]",
      "text/latex": [
       "$\\displaystyle \\sqrt{2}$"
      ],
      "text/plain": [
       "√2"
      ]
     },
     "metadata": {},
     "output_type": "display_data"
    }
   ],
   "source": [
    "display(np.sqrt(2))\n",
    "display(sym.sqrt(2))"
   ]
  },
  {
   "cell_type": "markdown",
   "id": "d1ed87e9-0311-44a9-b4a2-6cba76945936",
   "metadata": {},
   "source": [
    "#### 1. Exercises"
   ]
  },
  {
   "cell_type": "code",
   "execution_count": 27,
   "id": "80d0e50e-1ce1-46f1-8eef-2da007efa189",
   "metadata": {},
   "outputs": [
    {
     "data": {
      "image/png": "[encoded data removed]",
      "text/latex": [
       "$\\displaystyle x^{2} y$"
      ],
      "text/plain": [
       " 2  \n",
       "x ⋅y"
      ]
     },
     "metadata": {},
     "output_type": "display_data"
    },
    {
     "data": {
      "image/png": "[encoded data removed]",
      "text/latex": [
       "$\\displaystyle 2 x$"
      ],
      "text/plain": [
       "2⋅x"
      ]
     },
     "metadata": {},
     "output_type": "display_data"
    },
    {
     "data": {
      "image/png": "[encoded data removed]",
      "text/latex": [
       "$\\displaystyle x$"
      ],
      "text/plain": [
       "x"
      ]
     },
     "metadata": {},
     "output_type": "display_data"
    }
   ],
   "source": [
    "display(y*(x**2))\n",
    "display(sym.sqrt(4)*x)\n",
    "display(sym.sqrt(x)*sym.sqrt(x))"
   ]
  },
  {
   "cell_type": "code",
   "execution_count": null,
   "id": "7aa00851-e6a6-4f48-b084-14088606dd84",
   "metadata": {},
   "outputs": [],
   "source": []
  }
 ],
 "metadata": {
  "kernelspec": {
   "display_name": "Python 3 (ipykernel)",
   "language": "python",
   "name": "python3"
  },
  "language_info": {
   "codemirror_mode": {
    "name": "ipython",
    "version": 3
   },
   "file_extension": ".py",
   "mimetype": "text/x-python",
   "name": "python",
   "nbconvert_exporter": "python",
   "pygments_lexer": "ipython3",
   "version": "3.11.1"
  }
 },
 "nbformat": 4,
 "nbformat_minor": 5
}
