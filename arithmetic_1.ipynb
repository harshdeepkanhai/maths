{
 "cells": [
  {
   "cell_type": "markdown",
   "id": "4692165d-5642-4f7f-ab38-6310e6bb24f6",
   "metadata": {},
   "source": [
    "### 1. Addition, subtraction, multiplication, division"
   ]
  },
  {
   "cell_type": "code",
   "execution_count": 3,
   "id": "807a2ede-3941-4df0-aede-c9b3581acdcd",
   "metadata": {},
   "outputs": [
    {
     "data": {
      "text/plain": [
       "12"
      ]
     },
     "execution_count": 3,
     "metadata": {},
     "output_type": "execute_result"
    }
   ],
   "source": [
    " 4 + 8"
   ]
  },
  {
   "cell_type": "code",
   "execution_count": 4,
   "id": "74c75301-d88d-4b6f-ab8c-1d8a7c97ae9f",
   "metadata": {},
   "outputs": [
    {
     "data": {
      "text/plain": [
       "10"
      ]
     },
     "execution_count": 4,
     "metadata": {},
     "output_type": "execute_result"
    }
   ],
   "source": [
    "4 + 1 + 5"
   ]
  },
  {
   "cell_type": "code",
   "execution_count": 5,
   "id": "c0947ea0-d29e-4733-a70e-bfa7838925d7",
   "metadata": {},
   "outputs": [
    {
     "data": {
      "text/plain": [
       "2"
      ]
     },
     "execution_count": 5,
     "metadata": {},
     "output_type": "execute_result"
    }
   ],
   "source": [
    "5 - 3 "
   ]
  },
  {
   "cell_type": "code",
   "execution_count": 7,
   "id": "61c4f5c0-5496-4843-a35f-603912082e26",
   "metadata": {},
   "outputs": [
    {
     "data": {
      "text/plain": [
       "5"
      ]
     },
     "execution_count": 7,
     "metadata": {},
     "output_type": "execute_result"
    }
   ],
   "source": [
    "3 * 3 + 1 - 5"
   ]
  },
  {
   "cell_type": "code",
   "execution_count": 10,
   "id": "8194082f-a86b-44e5-a13e-0bbafbdbd942",
   "metadata": {},
   "outputs": [
    {
     "data": {
      "text/plain": [
       "1.0"
      ]
     },
     "execution_count": 10,
     "metadata": {},
     "output_type": "execute_result"
    }
   ],
   "source": [
    "(1 + 3) / 4"
   ]
  },
  {
   "cell_type": "markdown",
   "id": "004a639f-86f5-4d29-9c97-cb5e4e1d2ff6",
   "metadata": {},
   "source": [
    "#### 1. Exercises"
   ]
  },
  {
   "cell_type": "code",
   "execution_count": 11,
   "id": "833dcb22-6976-4b44-a68d-01939281f79b",
   "metadata": {},
   "outputs": [
    {
     "data": {
      "text/plain": [
       "4.7"
      ]
     },
     "execution_count": 11,
     "metadata": {},
     "output_type": "execute_result"
    }
   ],
   "source": [
    "5 - 2/4 * 3/5"
   ]
  },
  {
   "cell_type": "code",
   "execution_count": 12,
   "id": "ba01d3f7-3f63-43ee-a733-89c869653ea7",
   "metadata": {},
   "outputs": [
    {
     "data": {
      "text/plain": [
       "-0.030303030303030304"
      ]
     },
     "execution_count": 12,
     "metadata": {},
     "output_type": "execute_result"
    }
   ],
   "source": [
    "(4 - 5)/(3 + 5 * 6)"
   ]
  },
  {
   "cell_type": "markdown",
   "id": "181259b0-ec88-43f9-848e-1893bc120fad",
   "metadata": {},
   "source": [
    "### 2. Using variables in place of numbers"
   ]
  },
  {
   "cell_type": "code",
   "execution_count": 13,
   "id": "9b63a249-40c3-4b8b-9559-ec679b331461",
   "metadata": {},
   "outputs": [
    {
     "data": {
      "text/plain": [
       "7"
      ]
     },
     "execution_count": 13,
     "metadata": {},
     "output_type": "execute_result"
    }
   ],
   "source": [
    "x = 7\n",
    "x"
   ]
  },
  {
   "cell_type": "code",
   "execution_count": 14,
   "id": "da8fd235-6f4b-463a-b195-61b120a4166f",
   "metadata": {},
   "outputs": [
    {
     "data": {
      "text/plain": [
       "5"
      ]
     },
     "execution_count": 14,
     "metadata": {},
     "output_type": "execute_result"
    }
   ],
   "source": [
    "x - 2"
   ]
  },
  {
   "cell_type": "code",
   "execution_count": 19,
   "id": "5e10121d-d41a-4cb3-8952-5ad08a16282c",
   "metadata": {},
   "outputs": [
    {
     "data": {
      "text/plain": [
       "10"
      ]
     },
     "execution_count": 19,
     "metadata": {},
     "output_type": "execute_result"
    }
   ],
   "source": [
    "x = 10\n",
    "x"
   ]
  },
  {
   "cell_type": "code",
   "execution_count": 20,
   "id": "76a202f9-81f3-46e4-b230-00e089957e58",
   "metadata": {},
   "outputs": [
    {
     "data": {
      "text/plain": [
       "0"
      ]
     },
     "execution_count": 20,
     "metadata": {},
     "output_type": "execute_result"
    }
   ],
   "source": [
    "x = x - 2 * 5\n",
    "x"
   ]
  },
  {
   "cell_type": "code",
   "execution_count": 27,
   "id": "c5478752-abc1-469c-913b-71502efb9474",
   "metadata": {},
   "outputs": [
    {
     "name": "stdout",
     "output_type": "stream",
     "text": [
      "630\n",
      "-610\n"
     ]
    }
   ],
   "source": [
    "x = 10\n",
    "y = 20\n",
    "z = 31\n",
    "print(x + y * z)\n",
    "print(x - y * z)"
   ]
  },
  {
   "cell_type": "code",
   "execution_count": 23,
   "id": "50e1f283-d8f6-47bb-a398-4f17ad50c6b5",
   "metadata": {},
   "outputs": [
    {
     "data": {
      "text/plain": [
       "44"
      ]
     },
     "execution_count": 23,
     "metadata": {},
     "output_type": "execute_result"
    }
   ],
   "source": [
    "mike = 10\n",
    "spike = 34\n",
    "\n",
    "mike + spike"
   ]
  },
  {
   "cell_type": "code",
   "execution_count": 28,
   "id": "504763f6-cc87-422a-bb41-18c68c3a94d9",
   "metadata": {},
   "outputs": [],
   "source": [
    "NumberOfChocolateBars = 0.5\n"
   ]
  },
  {
   "cell_type": "markdown",
   "id": "d764432d-02b7-467c-b34b-9534fb355c56",
   "metadata": {},
   "source": [
    "#### 2. Exercises"
   ]
  },
  {
   "cell_type": "code",
   "execution_count": 29,
   "id": "65c130d4-899a-4e52-80bc-fdb258088f4d",
   "metadata": {},
   "outputs": [],
   "source": [
    "x = 7\n",
    "y = -2\n",
    "z = 5"
   ]
  },
  {
   "cell_type": "code",
   "execution_count": 32,
   "id": "2a6bdda8-9319-48cd-ae63-e4f5401f2f18",
   "metadata": {},
   "outputs": [
    {
     "name": "stdout",
     "output_type": "stream",
     "text": [
      "42\n"
     ]
    }
   ],
   "source": [
    "print(3*x*(4 +y))"
   ]
  },
  {
   "cell_type": "code",
   "execution_count": 33,
   "id": "f8b670bb-4efd-4ea2-beb1-748e8018b4d8",
   "metadata": {},
   "outputs": [
    {
     "name": "stdout",
     "output_type": "stream",
     "text": [
      "0.0\n"
     ]
    }
   ],
   "source": [
    "print(-y - (x +3)/z)"
   ]
  },
  {
   "cell_type": "code",
   "execution_count": null,
   "id": "25db3a8c-a634-4397-bde6-1406b456cce4",
   "metadata": {},
   "outputs": [],
   "source": []
  }
 ],
 "metadata": {
  "kernelspec": {
   "display_name": "Python 3 (ipykernel)",
   "language": "python",
   "name": "python3"
  },
  "language_info": {
   "codemirror_mode": {
    "name": "ipython",
    "version": 3
   },
   "file_extension": ".py",
   "mimetype": "text/x-python",
   "name": "python",
   "nbconvert_exporter": "python",
   "pygments_lexer": "ipython3",
   "version": "3.11.1"
  }
 },
 "nbformat": 4,
 "nbformat_minor": 5
}
