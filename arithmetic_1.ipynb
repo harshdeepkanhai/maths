{
 "cells": [
  {
   "cell_type": "markdown",
   "id": "4692165d-5642-4f7f-ab38-6310e6bb24f6",
   "metadata": {},
   "source": [
    "### 1. Addition, subtraction, multiplication, division"
   ]
  },
  {
   "cell_type": "code",
   "execution_count": 3,
   "id": "807a2ede-3941-4df0-aede-c9b3581acdcd",
   "metadata": {},
   "outputs": [
    {
     "data": {
      "text/plain": [
       "12"
      ]
     },
     "execution_count": 3,
     "metadata": {},
     "output_type": "execute_result"
    }
   ],
   "source": [
    " 4 + 8"
   ]
  },
  {
   "cell_type": "code",
   "execution_count": 4,
   "id": "74c75301-d88d-4b6f-ab8c-1d8a7c97ae9f",
   "metadata": {},
   "outputs": [
    {
     "data": {
      "text/plain": [
       "10"
      ]
     },
     "execution_count": 4,
     "metadata": {},
     "output_type": "execute_result"
    }
   ],
   "source": [
    "4 + 1 + 5"
   ]
  },
  {
   "cell_type": "code",
   "execution_count": 5,
   "id": "c0947ea0-d29e-4733-a70e-bfa7838925d7",
   "metadata": {},
   "outputs": [
    {
     "data": {
      "text/plain": [
       "2"
      ]
     },
     "execution_count": 5,
     "metadata": {},
     "output_type": "execute_result"
    }
   ],
   "source": [
    "5 - 3 "
   ]
  },
  {
   "cell_type": "code",
   "execution_count": 7,
   "id": "61c4f5c0-5496-4843-a35f-603912082e26",
   "metadata": {},
   "outputs": [
    {
     "data": {
      "text/plain": [
       "5"
      ]
     },
     "execution_count": 7,
     "metadata": {},
     "output_type": "execute_result"
    }
   ],
   "source": [
    "3 * 3 + 1 - 5"
   ]
  },
  {
   "cell_type": "code",
   "execution_count": 10,
   "id": "8194082f-a86b-44e5-a13e-0bbafbdbd942",
   "metadata": {},
   "outputs": [
    {
     "data": {
      "text/plain": [
       "1.0"
      ]
     },
     "execution_count": 10,
     "metadata": {},
     "output_type": "execute_result"
    }
   ],
   "source": [
    "(1 + 3) / 4"
   ]
  },
  {
   "cell_type": "markdown",
   "id": "004a639f-86f5-4d29-9c97-cb5e4e1d2ff6",
   "metadata": {},
   "source": [
    "#### 1. Exercises"
   ]
  },
  {
   "cell_type": "code",
   "execution_count": 11,
   "id": "833dcb22-6976-4b44-a68d-01939281f79b",
   "metadata": {},
   "outputs": [
    {
     "data": {
      "text/plain": [
       "4.7"
      ]
     },
     "execution_count": 11,
     "metadata": {},
     "output_type": "execute_result"
    }
   ],
   "source": [
    "5 - 2/4 * 3/5"
   ]
  },
  {
   "cell_type": "code",
   "execution_count": 12,
   "id": "ba01d3f7-3f63-43ee-a733-89c869653ea7",
   "metadata": {},
   "outputs": [
    {
     "data": {
      "text/plain": [
       "-0.030303030303030304"
      ]
     },
     "execution_count": 12,
     "metadata": {},
     "output_type": "execute_result"
    }
   ],
   "source": [
    "(4 - 5)/(3 + 5 * 6)"
   ]
  },
  {
   "cell_type": "markdown",
   "id": "181259b0-ec88-43f9-848e-1893bc120fad",
   "metadata": {},
   "source": [
    "### 2. Using variables in place of numbers"
   ]
  },
  {
   "cell_type": "code",
   "execution_count": 13,
   "id": "9b63a249-40c3-4b8b-9559-ec679b331461",
   "metadata": {},
   "outputs": [
    {
     "data": {
      "text/plain": [
       "7"
      ]
     },
     "execution_count": 13,
     "metadata": {},
     "output_type": "execute_result"
    }
   ],
   "source": [
    "x = 7\n",
    "x"
   ]
  },
  {
   "cell_type": "code",
   "execution_count": 14,
   "id": "da8fd235-6f4b-463a-b195-61b120a4166f",
   "metadata": {},
   "outputs": [
    {
     "data": {
      "text/plain": [
       "5"
      ]
     },
     "execution_count": 14,
     "metadata": {},
     "output_type": "execute_result"
    }
   ],
   "source": [
    "x - 2"
   ]
  },
  {
   "cell_type": "code",
   "execution_count": 19,
   "id": "5e10121d-d41a-4cb3-8952-5ad08a16282c",
   "metadata": {},
   "outputs": [
    {
     "data": {
      "text/plain": [
       "10"
      ]
     },
     "execution_count": 19,
     "metadata": {},
     "output_type": "execute_result"
    }
   ],
   "source": [
    "x = 10\n",
    "x"
   ]
  },
  {
   "cell_type": "code",
   "execution_count": 20,
   "id": "76a202f9-81f3-46e4-b230-00e089957e58",
   "metadata": {},
   "outputs": [
    {
     "data": {
      "text/plain": [
       "0"
      ]
     },
     "execution_count": 20,
     "metadata": {},
     "output_type": "execute_result"
    }
   ],
   "source": [
    "x = x - 2 * 5\n",
    "x"
   ]
  },
  {
   "cell_type": "code",
   "execution_count": 27,
   "id": "c5478752-abc1-469c-913b-71502efb9474",
   "metadata": {},
   "outputs": [
    {
     "name": "stdout",
     "output_type": "stream",
     "text": [
      "630\n",
      "-610\n"
     ]
    }
   ],
   "source": [
    "x = 10\n",
    "y = 20\n",
    "z = 31\n",
    "print(x + y * z)\n",
    "print(x - y * z)"
   ]
  },
  {
   "cell_type": "code",
   "execution_count": 23,
   "id": "50e1f283-d8f6-47bb-a398-4f17ad50c6b5",
   "metadata": {},
   "outputs": [
    {
     "data": {
      "text/plain": [
       "44"
      ]
     },
     "execution_count": 23,
     "metadata": {},
     "output_type": "execute_result"
    }
   ],
   "source": [
    "mike = 10\n",
    "spike = 34\n",
    "\n",
    "mike + spike"
   ]
  },
  {
   "cell_type": "code",
   "execution_count": 28,
   "id": "504763f6-cc87-422a-bb41-18c68c3a94d9",
   "metadata": {},
   "outputs": [],
   "source": [
    "NumberOfChocolateBars = 0.5\n"
   ]
  },
  {
   "cell_type": "markdown",
   "id": "d764432d-02b7-467c-b34b-9534fb355c56",
   "metadata": {},
   "source": [
    "#### 2. Exercises"
   ]
  },
  {
   "cell_type": "code",
   "execution_count": 29,
   "id": "65c130d4-899a-4e52-80bc-fdb258088f4d",
   "metadata": {},
   "outputs": [],
   "source": [
    "x = 7\n",
    "y = -2\n",
    "z = 5"
   ]
  },
  {
   "cell_type": "code",
   "execution_count": 32,
   "id": "2a6bdda8-9319-48cd-ae63-e4f5401f2f18",
   "metadata": {},
   "outputs": [
    {
     "name": "stdout",
     "output_type": "stream",
     "text": [
      "42\n"
     ]
    }
   ],
   "source": [
    "print(3*x*(4 +y))"
   ]
  },
  {
   "cell_type": "code",
   "execution_count": 33,
   "id": "f8b670bb-4efd-4ea2-beb1-748e8018b4d8",
   "metadata": {},
   "outputs": [
    {
     "name": "stdout",
     "output_type": "stream",
     "text": [
      "0.0\n"
     ]
    }
   ],
   "source": [
    "print(-y - (x +3)/z)"
   ]
  },
  {
   "cell_type": "markdown",
   "id": "eaa0c602-f9a1-4990-be0c-3a6fb241be62",
   "metadata": {},
   "source": [
    "### 3. Printing out equations in Jupyter notebook "
   ]
  },
  {
   "cell_type": "code",
   "execution_count": 2,
   "id": "3a9b2c7b-0f26-443d-bf17-9dfe5e57eafc",
   "metadata": {},
   "outputs": [],
   "source": [
    "from IPython.display import display, Math"
   ]
  },
  {
   "cell_type": "code",
   "execution_count": 3,
   "id": "299e4e9c-3b0c-4ddc-b12e-7702243a378e",
   "metadata": {},
   "outputs": [
    {
     "data": {
      "text/plain": [
       "'4 + 3 = 7'"
      ]
     },
     "metadata": {},
     "output_type": "display_data"
    }
   ],
   "source": [
    "display('4 + 3 = 7')"
   ]
  },
  {
   "cell_type": "code",
   "execution_count": 6,
   "id": "c1264323-3c31-4e7c-b094-2a5f9c6ccef5",
   "metadata": {},
   "outputs": [
    {
     "data": {
      "text/plain": [
       "'4 + 3 = 7'"
      ]
     },
     "metadata": {},
     "output_type": "display_data"
    }
   ],
   "source": [
    "display('4 + 3 = ' + str(4 + 3))"
   ]
  },
  {
   "cell_type": "code",
   "execution_count": 7,
   "id": "f8134856-939a-4c30-8965-70d47ddfd5f6",
   "metadata": {},
   "outputs": [
    {
     "data": {
      "text/latex": [
       "$\\displaystyle  4 + 3 =7$"
      ],
      "text/plain": [
       "<IPython.core.display.Math object>"
      ]
     },
     "metadata": {},
     "output_type": "display_data"
    }
   ],
   "source": [
    "display(Math(' 4 + 3 =7'))"
   ]
  },
  {
   "cell_type": "code",
   "execution_count": 8,
   "id": "5093720d-94ba-4600-9ba6-c96a0176a93b",
   "metadata": {},
   "outputs": [
    {
     "data": {
      "text/latex": [
       "$\\displaystyle 4 + 5 = 9$"
      ],
      "text/plain": [
       "<IPython.core.display.Math object>"
      ]
     },
     "metadata": {},
     "output_type": "display_data"
    }
   ],
   "source": [
    "x = 4\n",
    "y = 5\n",
    "display(Math( str(x) + ' + ' + str(y) + ' = ' + str(x + y)))"
   ]
  },
  {
   "cell_type": "code",
   "execution_count": 9,
   "id": "a9d822db-b980-4363-9089-10f1c0f12169",
   "metadata": {},
   "outputs": [
    {
     "data": {
      "text/latex": [
       "$\\displaystyle 4+5 = 9$"
      ],
      "text/plain": [
       "<IPython.core.display.Math object>"
      ]
     },
     "metadata": {},
     "output_type": "display_data"
    }
   ],
   "source": [
    "display(Math( '%g+%g = %g' % (x, y, x +y)))"
   ]
  },
  {
   "cell_type": "code",
   "execution_count": 10,
   "id": "cde97d4b-3586-4ecf-a9b0-06f528c32aab",
   "metadata": {},
   "outputs": [
    {
     "data": {
      "text/latex": [
       "$\\displaystyle 4/5 = .8$"
      ],
      "text/plain": [
       "<IPython.core.display.Math object>"
      ]
     },
     "metadata": {},
     "output_type": "display_data"
    }
   ],
   "source": [
    "display(Math('4/5 = .8'))"
   ]
  },
  {
   "cell_type": "code",
   "execution_count": 13,
   "id": "adf8f77b-c11b-46a7-899e-f45205955d05",
   "metadata": {},
   "outputs": [
    {
     "data": {
      "text/latex": [
       "$\\displaystyle \\frac{4}{5} = .8$"
      ],
      "text/plain": [
       "<IPython.core.display.Math object>"
      ]
     },
     "metadata": {},
     "output_type": "display_data"
    }
   ],
   "source": [
    "display(Math('\\\\frac{4}{5} = .8'))"
   ]
  },
  {
   "cell_type": "code",
   "execution_count": 15,
   "id": "bcac9749-f1fa-4744-a7d8-a7eb415b255d",
   "metadata": {},
   "outputs": [
    {
     "data": {
      "text/latex": [
       "$\\displaystyle 3.4 \\times 17 = 57.8$"
      ],
      "text/plain": [
       "<IPython.core.display.Math object>"
      ]
     },
     "metadata": {},
     "output_type": "display_data"
    }
   ],
   "source": [
    "x = 3.4\n",
    "y = 17\n",
    "display(Math('%g \\\\times %g = %g' %(x, y, x * y)))"
   ]
  },
  {
   "cell_type": "markdown",
   "id": "480424f9-b24a-4141-a198-70127878df6f",
   "metadata": {},
   "source": [
    "#### 3. Exercises"
   ]
  },
  {
   "cell_type": "code",
   "execution_count": 16,
   "id": "4207aa7d-d98b-4e21-99c2-0b06fdcf86b0",
   "metadata": {},
   "outputs": [],
   "source": [
    "x = 7\n",
    "y = -2\n",
    "z = 5"
   ]
  },
  {
   "cell_type": "code",
   "execution_count": 26,
   "id": "f0a43997-61bb-4c89-a8b2-919a82b061aa",
   "metadata": {},
   "outputs": [
    {
     "data": {
      "text/latex": [
       "$\\displaystyle 3x(4+y)=42$"
      ],
      "text/plain": [
       "<IPython.core.display.Math object>"
      ]
     },
     "metadata": {},
     "output_type": "display_data"
    }
   ],
   "source": [
    "display(Math('3x(4+y)=%g' %(3 * x *(4 + y))))"
   ]
  },
  {
   "cell_type": "code",
   "execution_count": 25,
   "id": "d86d7e08-ce17-4745-802f-80e4f071650b",
   "metadata": {},
   "outputs": [
    {
     "data": {
      "text/latex": [
       "$\\displaystyle 3 \\times 7(4+-2)=42$"
      ],
      "text/plain": [
       "<IPython.core.display.Math object>"
      ]
     },
     "metadata": {},
     "output_type": "display_data"
    }
   ],
   "source": [
    "display(Math('3 \\\\times %g(4+%g)=%g' %(x, y, 3 * x *(4 + y))))"
   ]
  },
  {
   "cell_type": "code",
   "execution_count": 27,
   "id": "9c5d6d54-cb7a-40fa-a0e0-a730b81d9b13",
   "metadata": {},
   "outputs": [
    {
     "data": {
      "text/latex": [
       "$\\displaystyle - y - \\frac{x+3}{z} = 0$"
      ],
      "text/plain": [
       "<IPython.core.display.Math object>"
      ]
     },
     "metadata": {},
     "output_type": "display_data"
    }
   ],
   "source": [
    "display(Math('- y - \\\\frac{x+3}{z} = %g' %(-y-(x + 3)/z)))"
   ]
  },
  {
   "cell_type": "code",
   "execution_count": 28,
   "id": "ccaad354-71fd-463a-a867-2cfc1e12e154",
   "metadata": {},
   "outputs": [
    {
     "data": {
      "text/latex": [
       "$\\displaystyle - -2 - \\frac{7+3}{5} = 0$"
      ],
      "text/plain": [
       "<IPython.core.display.Math object>"
      ]
     },
     "metadata": {},
     "output_type": "display_data"
    }
   ],
   "source": [
    "display(Math('- %g - \\\\frac{%g+3}{%g} = %g' %(y, x, z, -y-(x + 3)/z)))"
   ]
  },
  {
   "cell_type": "markdown",
   "id": "211bd805-420b-4dbf-aeee-98acbe4731ba",
   "metadata": {},
   "source": [
    "### 4. Writing comments"
   ]
  },
  {
   "cell_type": "code",
   "execution_count": 35,
   "id": "ff092b02-283f-4c21-a382-160870ec13c2",
   "metadata": {},
   "outputs": [
    {
     "data": {
      "text/plain": [
       "5"
      ]
     },
     "execution_count": 35,
     "metadata": {},
     "output_type": "execute_result"
    }
   ],
   "source": [
    "# this is where the variables are defined\n",
    "y = 3 \n",
    "z = 5 # this used to be 2.3\n",
    "z\n",
    "\n",
    "# this is where the functions are defined\n",
    "# Ctrl + / for toggling comments"
   ]
  },
  {
   "cell_type": "markdown",
   "id": "6eda4c9a-0813-4b8c-9cd3-575b8b3390f3",
   "metadata": {},
   "source": [
    "### 5. Exponents (powers)"
   ]
  },
  {
   "cell_type": "code",
   "execution_count": 36,
   "id": "061578f5-748d-49ad-bac1-cbc80871e928",
   "metadata": {},
   "outputs": [
    {
     "data": {
      "text/plain": [
       "9"
      ]
     },
     "execution_count": 36,
     "metadata": {},
     "output_type": "execute_result"
    }
   ],
   "source": [
    "3 ** 2"
   ]
  },
  {
   "cell_type": "code",
   "execution_count": 37,
   "id": "a3c68f20-2602-4221-bb2e-ea3bc4a7471d",
   "metadata": {},
   "outputs": [
    {
     "data": {
      "text/plain": [
       "1"
      ]
     },
     "execution_count": 37,
     "metadata": {},
     "output_type": "execute_result"
    }
   ],
   "source": [
    "3^2 # XOR operation"
   ]
  },
  {
   "cell_type": "code",
   "execution_count": 39,
   "id": "9e9d8b58-ffb3-40b4-b00b-48d3dc4ba597",
   "metadata": {},
   "outputs": [
    {
     "data": {
      "text/plain": [
       "729"
      ]
     },
     "execution_count": 39,
     "metadata": {},
     "output_type": "execute_result"
    }
   ],
   "source": [
    "x = 6\n",
    "3 ** x"
   ]
  },
  {
   "cell_type": "code",
   "execution_count": 40,
   "id": "bc39b461-e714-481a-bff7-570a8abe2655",
   "metadata": {},
   "outputs": [
    {
     "name": "stdout",
     "output_type": "stream",
     "text": [
      "27\n",
      "27\n"
     ]
    }
   ],
   "source": [
    "print(3 ** 3)\n",
    "print(3 * 3 * 3)"
   ]
  },
  {
   "cell_type": "code",
   "execution_count": 43,
   "id": "1f9e6583-e98e-48c6-99f7-604846b77144",
   "metadata": {},
   "outputs": [
    {
     "name": "stdout",
     "output_type": "stream",
     "text": [
      "729\n",
      "729\n"
     ]
    }
   ],
   "source": [
    "print( 3 ** 2 * 3 ** 4)\n",
    "print( 3 ** (2 + 4))"
   ]
  },
  {
   "cell_type": "code",
   "execution_count": 45,
   "id": "091c9aa7-90b7-4b5e-a658-a9a9b194f56d",
   "metadata": {},
   "outputs": [
    {
     "data": {
      "text/plain": [
       "3.0"
      ]
     },
     "execution_count": 45,
     "metadata": {},
     "output_type": "execute_result"
    }
   ],
   "source": [
    "9 ** (1/2)"
   ]
  },
  {
   "cell_type": "code",
   "execution_count": 62,
   "id": "0fab0699-2cd3-4287-b9fd-d07f7b4f00a2",
   "metadata": {},
   "outputs": [
    {
     "data": {
      "text/latex": [
       "$\\displaystyle  3^2 \\times 3^4 = 3^{2+4}$"
      ],
      "text/plain": [
       "<IPython.core.display.Math object>"
      ]
     },
     "metadata": {},
     "output_type": "display_data"
    }
   ],
   "source": [
    "display(Math(' 3^2 \\\\times 3^4 = 3^{2+4}'))"
   ]
  },
  {
   "cell_type": "markdown",
   "id": "130736b3-da58-4ee9-a1e8-1bf07b7e8e90",
   "metadata": {},
   "source": [
    "#### 5. Exercises"
   ]
  },
  {
   "cell_type": "code",
   "execution_count": 63,
   "id": "fadae050-9b28-4189-9d09-d2dc50b2108b",
   "metadata": {},
   "outputs": [],
   "source": [
    "x = 5 \n",
    "y = 5.1"
   ]
  },
  {
   "cell_type": "code",
   "execution_count": 58,
   "id": "82dc6b2b-4fad-4c84-bd51-a93cc7aea6f8",
   "metadata": {},
   "outputs": [
    {
     "data": {
      "text/latex": [
       "$\\displaystyle x^{3/4} \\times 4^y = 3933.09$"
      ],
      "text/plain": [
       "<IPython.core.display.Math object>"
      ]
     },
     "metadata": {},
     "output_type": "display_data"
    }
   ],
   "source": [
    "display(Math('x^{3/4} \\\\times 4^y = %g' %(x **(3/4) * 4**y)))"
   ]
  },
  {
   "cell_type": "code",
   "execution_count": 60,
   "id": "3bbc3100-709e-475e-ad69-db2174f11dd7",
   "metadata": {},
   "outputs": [
    {
     "data": {
      "text/latex": [
       "$\\displaystyle \\frac{3^3}{x^y} = 0.00735558$"
      ],
      "text/plain": [
       "<IPython.core.display.Math object>"
      ]
     },
     "metadata": {},
     "output_type": "display_data"
    }
   ],
   "source": [
    "display(Math('\\\\frac{3^3}{x^y} = %g' %( (3 ** 3) / (x ** y))))"
   ]
  },
  {
   "cell_type": "code",
   "execution_count": 61,
   "id": "ca2ee278-9e1b-4e35-9e7b-41bc0e929da9",
   "metadata": {},
   "outputs": [
    {
     "data": {
      "text/latex": [
       "$\\displaystyle 10^{x-4} = 10$"
      ],
      "text/plain": [
       "<IPython.core.display.Math object>"
      ]
     },
     "metadata": {},
     "output_type": "display_data"
    }
   ],
   "source": [
    "display(Math('10^{x-4} = %g' %(10 ** (x-4))))"
   ]
  },
  {
   "cell_type": "markdown",
   "id": "806db80a-c00a-4d43-8015-b4b3cfab3642",
   "metadata": {},
   "source": [
    "### 6. Use of for-loops to compute powers"
   ]
  },
  {
   "cell_type": "code",
   "execution_count": 2,
   "id": "c61196ce-5d7d-4e92-bac5-1d76646ee8fa",
   "metadata": {},
   "outputs": [
    {
     "name": "stdout",
     "output_type": "stream",
     "text": [
      "0\n",
      "2\n",
      "4\n",
      "6\n"
     ]
    }
   ],
   "source": [
    "for i in [0, 1, 2, 3]:\n",
    "    print(i * 2)"
   ]
  },
  {
   "cell_type": "code",
   "execution_count": 3,
   "id": "66cbeae0-2afd-4aa5-93da-29ac05fac795",
   "metadata": {},
   "outputs": [
    {
     "data": {
      "text/plain": [
       "range(0, 3)"
      ]
     },
     "execution_count": 3,
     "metadata": {},
     "output_type": "execute_result"
    }
   ],
   "source": [
    "range(0,3)"
   ]
  },
  {
   "cell_type": "code",
   "execution_count": 4,
   "id": "32899432-5d55-42af-bc95-062dd137e131",
   "metadata": {},
   "outputs": [
    {
     "data": {
      "text/plain": [
       "[0, 1, 2]"
      ]
     },
     "execution_count": 4,
     "metadata": {},
     "output_type": "execute_result"
    }
   ],
   "source": [
    "list(range(0,3))"
   ]
  },
  {
   "cell_type": "code",
   "execution_count": 5,
   "id": "b2766eec-89dc-4391-99e8-8f52015f26c3",
   "metadata": {},
   "outputs": [
    {
     "name": "stdout",
     "output_type": "stream",
     "text": [
      "This is the 0th iteration.\n",
      "This is the 1th iteration.\n",
      "This is the 2th iteration.\n"
     ]
    }
   ],
   "source": [
    "for qwerty in range(0,3):\n",
    "    print('This is the %gth iteration.' %qwerty)"
   ]
  },
  {
   "cell_type": "code",
   "execution_count": 6,
   "id": "f301698e-9517-44b6-935e-f6ee79fb586f",
   "metadata": {},
   "outputs": [
    {
     "name": "stdout",
     "output_type": "stream",
     "text": [
      "0\n",
      "1\n",
      "4\n",
      "9\n",
      "16\n"
     ]
    }
   ],
   "source": [
    "for t in range(0, 5):\n",
    "    num = t ** 2\n",
    "    print(num)"
   ]
  },
  {
   "cell_type": "markdown",
   "id": "0c4599a0-fb96-4231-87cd-421a7a579bff",
   "metadata": {},
   "source": [
    "#### 6. Exercise"
   ]
  },
  {
   "cell_type": "code",
   "execution_count": 10,
   "id": "ba098e26-0ed5-493a-b58e-aa9027b9cd06",
   "metadata": {},
   "outputs": [
    {
     "name": "stdout",
     "output_type": "stream",
     "text": [
      "32 to the power of 0 is 1\n",
      "32 to the power of 1 is 32\n",
      "32 to the power of 2 is 1024\n",
      "32 to the power of 3 is 32768\n",
      "32 to the power of 4 is 1.04858e+06\n",
      "32 to the power of 5 is 3.35544e+07\n",
      "32 to the power of 6 is 1.07374e+09\n",
      "32 to the power of 7 is 3.43597e+10\n",
      "32 to the power of 8 is 1.09951e+12\n",
      "32 to the power of 9 is 3.51844e+13\n"
     ]
    }
   ],
   "source": [
    "base = 32\n",
    "for j in range(0, 10):\n",
    "    print('%g to the power of %g is %g' %(base, j, base ** j))"
   ]
  },
  {
   "cell_type": "markdown",
   "id": "76c052cd-4850-4df2-bbe8-76e04250b169",
   "metadata": {},
   "source": [
    "### 7. Order of Operations"
   ]
  },
  {
   "cell_type": "markdown",
   "id": "cb676fed-094d-497d-9ab0-3734eb87b86f",
   "metadata": {},
   "source": [
    "**P**lease **E**xcuse **M**y **D**ear **A**unty **S**ally\n",
    "\n",
    "- Parentheses\n",
    "- Exponents\n",
    "- Multiplication\n",
    "- Division\n",
    "- Addition\n",
    "- Subtraction"
   ]
  },
  {
   "cell_type": "code",
   "execution_count": 14,
   "id": "041b346d-3829-4723-84b0-539330adb153",
   "metadata": {},
   "outputs": [
    {
     "name": "stdout",
     "output_type": "stream",
     "text": [
      "7\n"
     ]
    }
   ],
   "source": [
    "print((4+3) * (2-1))"
   ]
  },
  {
   "cell_type": "markdown",
   "id": "2f8ab560-3733-4341-8d84-564fb815e223",
   "metadata": {},
   "source": [
    "#### 7. Exercises"
   ]
  },
  {
   "cell_type": "code",
   "execution_count": 17,
   "id": "7f392da6-a2ca-4f78-930c-a18e182d2424",
   "metadata": {},
   "outputs": [
    {
     "name": "stdout",
     "output_type": "stream",
     "text": [
      "2.0\n"
     ]
    }
   ],
   "source": [
    "print( 4 * 5 / (7 + 3))"
   ]
  },
  {
   "cell_type": "code",
   "execution_count": 16,
   "id": "85c4491e-50bb-4e39-be43-67cec1a4d93d",
   "metadata": {},
   "outputs": [
    {
     "name": "stdout",
     "output_type": "stream",
     "text": [
      "0.0\n"
     ]
    }
   ],
   "source": [
    "print(9/(3 + 6) - 1)"
   ]
  },
  {
   "cell_type": "code",
   "execution_count": null,
   "id": "17a07ec3-6167-4cd5-91da-d728a50bfc84",
   "metadata": {},
   "outputs": [],
   "source": []
  }
 ],
 "metadata": {
  "kernelspec": {
   "display_name": "Python 3 (ipykernel)",
   "language": "python",
   "name": "python3"
  },
  "language_info": {
   "codemirror_mode": {
    "name": "ipython",
    "version": 3
   },
   "file_extension": ".py",
   "mimetype": "text/x-python",
   "name": "python",
   "nbconvert_exporter": "python",
   "pygments_lexer": "ipython3",
   "version": "3.11.1"
  }
 },
 "nbformat": 4,
 "nbformat_minor": 5
}
