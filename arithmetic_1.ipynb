{
 "cells": [
  {
   "cell_type": "markdown",
   "id": "4692165d-5642-4f7f-ab38-6310e6bb24f6",
   "metadata": {},
   "source": [
    "### 1. Addition, subtraction, multiplication, division"
   ]
  },
  {
   "cell_type": "code",
   "execution_count": 3,
   "id": "807a2ede-3941-4df0-aede-c9b3581acdcd",
   "metadata": {},
   "outputs": [
    {
     "data": {
      "text/plain": [
       "12"
      ]
     },
     "execution_count": 3,
     "metadata": {},
     "output_type": "execute_result"
    }
   ],
   "source": [
    " 4 + 8"
   ]
  },
  {
   "cell_type": "code",
   "execution_count": 4,
   "id": "74c75301-d88d-4b6f-ab8c-1d8a7c97ae9f",
   "metadata": {},
   "outputs": [
    {
     "data": {
      "text/plain": [
       "10"
      ]
     },
     "execution_count": 4,
     "metadata": {},
     "output_type": "execute_result"
    }
   ],
   "source": [
    "4 + 1 + 5"
   ]
  },
  {
   "cell_type": "code",
   "execution_count": 5,
   "id": "c0947ea0-d29e-4733-a70e-bfa7838925d7",
   "metadata": {},
   "outputs": [
    {
     "data": {
      "text/plain": [
       "2"
      ]
     },
     "execution_count": 5,
     "metadata": {},
     "output_type": "execute_result"
    }
   ],
   "source": [
    "5 - 3 "
   ]
  },
  {
   "cell_type": "code",
   "execution_count": 7,
   "id": "61c4f5c0-5496-4843-a35f-603912082e26",
   "metadata": {},
   "outputs": [
    {
     "data": {
      "text/plain": [
       "5"
      ]
     },
     "execution_count": 7,
     "metadata": {},
     "output_type": "execute_result"
    }
   ],
   "source": [
    "3 * 3 + 1 - 5"
   ]
  },
  {
   "cell_type": "code",
   "execution_count": 10,
   "id": "8194082f-a86b-44e5-a13e-0bbafbdbd942",
   "metadata": {},
   "outputs": [
    {
     "data": {
      "text/plain": [
       "1.0"
      ]
     },
     "execution_count": 10,
     "metadata": {},
     "output_type": "execute_result"
    }
   ],
   "source": [
    "(1 + 3) / 4"
   ]
  },
  {
   "cell_type": "markdown",
   "id": "004a639f-86f5-4d29-9c97-cb5e4e1d2ff6",
   "metadata": {},
   "source": [
    "#### 1. Exercises"
   ]
  },
  {
   "cell_type": "code",
   "execution_count": 11,
   "id": "833dcb22-6976-4b44-a68d-01939281f79b",
   "metadata": {},
   "outputs": [
    {
     "data": {
      "text/plain": [
       "4.7"
      ]
     },
     "execution_count": 11,
     "metadata": {},
     "output_type": "execute_result"
    }
   ],
   "source": [
    "5 - 2/4 * 3/5"
   ]
  },
  {
   "cell_type": "code",
   "execution_count": 12,
   "id": "ba01d3f7-3f63-43ee-a733-89c869653ea7",
   "metadata": {},
   "outputs": [
    {
     "data": {
      "text/plain": [
       "-0.030303030303030304"
      ]
     },
     "execution_count": 12,
     "metadata": {},
     "output_type": "execute_result"
    }
   ],
   "source": [
    "(4 - 5)/(3 + 5 * 6)"
   ]
  },
  {
   "cell_type": "code",
   "execution_count": null,
   "id": "b4911684-5e84-4751-8879-acbf063b318c",
   "metadata": {},
   "outputs": [],
   "source": []
  }
 ],
 "metadata": {
  "kernelspec": {
   "display_name": "Python 3 (ipykernel)",
   "language": "python",
   "name": "python3"
  },
  "language_info": {
   "codemirror_mode": {
    "name": "ipython",
    "version": 3
   },
   "file_extension": ".py",
   "mimetype": "text/x-python",
   "name": "python",
   "nbconvert_exporter": "python",
   "pygments_lexer": "ipython3",
   "version": "3.11.1"
  }
 },
 "nbformat": 4,
 "nbformat_minor": 5
}
